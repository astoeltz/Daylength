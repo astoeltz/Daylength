{
 "cells": [
  {
   "cell_type": "code",
   "execution_count": 14,
   "metadata": {},
   "outputs": [],
   "source": [
    "import numpy as np\n",
    "from datetime import date\n",
    "import matplotlib.pyplot as plt\n",
    "import seaborn"
   ]
  },
  {
   "cell_type": "code",
   "execution_count": 16,
   "metadata": {},
   "outputs": [],
   "source": [
    "%matplotlib qt\n",
    "seaborn.set(style='whitegrid')"
   ]
  },
  {
   "cell_type": "code",
   "execution_count": 17,
   "metadata": {},
   "outputs": [],
   "source": [
    "year=2021\n",
    "month=7\n",
    "day=21\n",
    "\n",
    "latitude_gva=46.204391\n",
    "latitude_berkeley=37.871666"
   ]
  },
  {
   "cell_type": "code",
   "execution_count": 18,
   "metadata": {},
   "outputs": [],
   "source": [
    "# Converting Gregorian calendar date to Julian Day Number\n",
    "jdn=(1461*(year+4800+(month-14)/12))/4+(367*(month-2-12*((month-14)/12)))/12-(3*((year+4900 +(month-14)/12)/100))/4+day-32075\n",
    "\n",
    "# Calculate the number of days (positive or negative, including fractional days) since Greenwich noon, Terrestrial Time, on 1 January 2000\n",
    "n=jdn-2451545.0\n"
   ]
  },
  {
   "cell_type": "code",
   "execution_count": 19,
   "metadata": {},
   "outputs": [],
   "source": [
    "day_of_year=(date(year,month,day)-date(year,1,1)).days"
   ]
  },
  {
   "cell_type": "code",
   "execution_count": 20,
   "metadata": {},
   "outputs": [],
   "source": [
    "def hours_light_per_day(n_day,latitude):\n",
    "    declination=-23.44*np.cos(np.deg2rad((360.0/365.0)*(n_day+10)))\n",
    "    return 2*24.0/(2*np.pi)*np.arccos(-np.tan(np.deg2rad(latitude))*np.tan(np.deg2rad(declination)))"
   ]
  },
  {
   "cell_type": "code",
   "execution_count": 21,
   "metadata": {},
   "outputs": [
    {
     "data": {
      "text/plain": [
       "15.09034556579975"
      ]
     },
     "execution_count": 21,
     "metadata": {},
     "output_type": "execute_result"
    }
   ],
   "source": [
    "hours_light_per_day(day_of_year,latitude_gva)"
   ]
  },
  {
   "cell_type": "code",
   "execution_count": 22,
   "metadata": {},
   "outputs": [
    {
     "data": {
      "text/plain": [
       "14.27550659039092"
      ]
     },
     "execution_count": 22,
     "metadata": {},
     "output_type": "execute_result"
    }
   ],
   "source": [
    "hours_light_per_day(day_of_year,latitude_berkeley)"
   ]
  },
  {
   "cell_type": "code",
   "execution_count": 25,
   "metadata": {},
   "outputs": [
    {
     "name": "stderr",
     "output_type": "stream",
     "text": [
      "/home/anke/anaconda3/lib/python3.7/site-packages/ipykernel_launcher.py:3: RuntimeWarning: invalid value encountered in arccos\n",
      "  This is separate from the ipykernel package so we can avoid doing imports until\n",
      "/home/anke/anaconda3/lib/python3.7/site-packages/ipykernel_launcher.py:3: RuntimeWarning: invalid value encountered in arccos\n",
      "  This is separate from the ipykernel package so we can avoid doing imports until\n"
     ]
    }
   ],
   "source": [
    "days=np.arange(365)\n",
    "plt.figure()\n",
    "plt.plot(days,hours_light_per_day(days,0),label='equator')\n",
    "plt.plot(days,hours_light_per_day(days,latitude_berkeley),label='berkeley')\n",
    "plt.plot(days,hours_light_per_day(days,latitude_gva),label='gva')\n",
    "plt.plot(days,hours_light_per_day(days,59.334591),label='stockholm')\n",
    "plt.plot(days,hours_light_per_day(days,66.55),label='arctic circle')\n",
    "plt.plot(days,hours_light_per_day(days,71.290558),label='utqiagvik')\n",
    "plt.plot(days,hours_light_per_day(days,89),label='north pole')\n",
    "\n",
    "\n",
    "plt.legend()\n",
    "plt.ylim(0,25)\n",
    "plt.xlabel('Number of day')\n",
    "plt.ylabel('Hours light per day');"
   ]
  },
  {
   "cell_type": "code",
   "execution_count": 26,
   "metadata": {},
   "outputs": [
    {
     "name": "stderr",
     "output_type": "stream",
     "text": [
      "/home/anke/anaconda3/lib/python3.7/site-packages/ipykernel_launcher.py:3: RuntimeWarning: invalid value encountered in arccos\n",
      "  This is separate from the ipykernel package so we can avoid doing imports until\n",
      "/home/anke/anaconda3/lib/python3.7/site-packages/ipykernel_launcher.py:3: RuntimeWarning: invalid value encountered in arccos\n",
      "  This is separate from the ipykernel package so we can avoid doing imports until\n",
      "/home/anke/anaconda3/lib/python3.7/site-packages/ipykernel_launcher.py:3: RuntimeWarning: invalid value encountered in arccos\n",
      "  This is separate from the ipykernel package so we can avoid doing imports until\n",
      "/home/anke/anaconda3/lib/python3.7/site-packages/ipykernel_launcher.py:3: RuntimeWarning: invalid value encountered in arccos\n",
      "  This is separate from the ipykernel package so we can avoid doing imports until\n"
     ]
    }
   ],
   "source": [
    "latitudes=np.arange(-90,90)\n",
    "plt.figure()\n",
    "plt.plot(latitudes, hours_light_per_day(0,latitudes),label='day 0')\n",
    "plt.plot(latitudes, hours_light_per_day(365/4,latitudes),label='day 365/4')\n",
    "\n",
    "plt.plot(latitudes, hours_light_per_day(365/2,latitudes),label='day 365/2')\n",
    "plt.plot(latitudes, hours_light_per_day(365*3/4,latitudes),label='day 365*3/4')\n",
    "plt.xlabel('Latitude')\n",
    "plt.ylim(0,25)\n",
    "plt.xlim(-90,90)\n",
    "plt.legend()\n",
    "plt.ylabel('Hours light per day');"
   ]
  }
 ],
 "metadata": {
  "kernelspec": {
   "display_name": "Python 3",
   "language": "python",
   "name": "python3"
  },
  "language_info": {
   "codemirror_mode": {
    "name": "ipython",
    "version": 3
   },
   "file_extension": ".py",
   "mimetype": "text/x-python",
   "name": "python",
   "nbconvert_exporter": "python",
   "pygments_lexer": "ipython3",
   "version": "3.7.6"
  }
 },
 "nbformat": 4,
 "nbformat_minor": 4
}
